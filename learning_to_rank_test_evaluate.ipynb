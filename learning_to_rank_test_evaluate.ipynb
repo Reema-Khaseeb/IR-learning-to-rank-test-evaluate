{
 "cells": [
  {
   "cell_type": "code",
   "execution_count": 1,
   "metadata": {},
   "outputs": [],
   "source": [
    "from sklearn.metrics import ndcg_score\n",
    "\n",
    "import pandas as pd\n",
    "import numpy as np"
   ]
  },
  {
   "cell_type": "code",
   "execution_count": 151,
   "metadata": {},
   "outputs": [],
   "source": [
    "# download the dataset from here:\n",
    "#https://www.microsoft.com/en-us/research/project/mslr/\n",
    "\n",
    "train = pd.read_csv(\"train_sub_fold1.txt\", header=None, sep=\" \")"
   ]
  },
  {
   "cell_type": "markdown",
   "metadata": {},
   "source": [
    "### libSVM format\n",
    "read about this file format here: https://catboost.ai/docs/concepts/input-data_libsvm.html"
   ]
  },
  {
   "cell_type": "code",
   "execution_count": 152,
   "metadata": {},
   "outputs": [],
   "source": [
    "def extract_query(qstr):\n",
    "    return qstr[4:]\n",
    "\n",
    "def extract_features(features):\n",
    "    return features.split(':')[1]"
   ]
  },
  {
   "cell_type": "code",
   "execution_count": 153,
   "metadata": {},
   "outputs": [],
   "source": [
    "def df_preparing(df):\n",
    "    df[1] = df[1].apply(extract_query)\n",
    "    df[df.columns[2:-1]] = df[df.columns[2:-1]].applymap(extract_features)\n",
    "    df = df.drop(138, axis=1)\n",
    "    return df"
   ]
  },
  {
   "cell_type": "code",
   "execution_count": 154,
   "metadata": {},
   "outputs": [],
   "source": [
    "train_df = df_preparing(train)"
   ]
  },
  {
   "cell_type": "code",
   "execution_count": 155,
   "metadata": {},
   "outputs": [
    {
     "data": {
      "text/html": [
       "<div>\n",
       "<style scoped>\n",
       "    .dataframe tbody tr th:only-of-type {\n",
       "        vertical-align: middle;\n",
       "    }\n",
       "\n",
       "    .dataframe tbody tr th {\n",
       "        vertical-align: top;\n",
       "    }\n",
       "\n",
       "    .dataframe thead th {\n",
       "        text-align: right;\n",
       "    }\n",
       "</style>\n",
       "<table border=\"1\" class=\"dataframe\">\n",
       "  <thead>\n",
       "    <tr style=\"text-align: right;\">\n",
       "      <th></th>\n",
       "      <th>0</th>\n",
       "      <th>1</th>\n",
       "      <th>2</th>\n",
       "      <th>3</th>\n",
       "      <th>4</th>\n",
       "      <th>5</th>\n",
       "      <th>6</th>\n",
       "      <th>7</th>\n",
       "      <th>8</th>\n",
       "      <th>9</th>\n",
       "      <th>...</th>\n",
       "      <th>128</th>\n",
       "      <th>129</th>\n",
       "      <th>130</th>\n",
       "      <th>131</th>\n",
       "      <th>132</th>\n",
       "      <th>133</th>\n",
       "      <th>134</th>\n",
       "      <th>135</th>\n",
       "      <th>136</th>\n",
       "      <th>137</th>\n",
       "    </tr>\n",
       "  </thead>\n",
       "  <tbody>\n",
       "    <tr>\n",
       "      <th>0</th>\n",
       "      <td>2</td>\n",
       "      <td>1</td>\n",
       "      <td>3</td>\n",
       "      <td>3</td>\n",
       "      <td>0</td>\n",
       "      <td>0</td>\n",
       "      <td>3</td>\n",
       "      <td>1</td>\n",
       "      <td>1</td>\n",
       "      <td>0</td>\n",
       "      <td>...</td>\n",
       "      <td>62</td>\n",
       "      <td>11089534</td>\n",
       "      <td>2</td>\n",
       "      <td>116</td>\n",
       "      <td>64034</td>\n",
       "      <td>13</td>\n",
       "      <td>3</td>\n",
       "      <td>0</td>\n",
       "      <td>0</td>\n",
       "      <td>0</td>\n",
       "    </tr>\n",
       "    <tr>\n",
       "      <th>1</th>\n",
       "      <td>2</td>\n",
       "      <td>1</td>\n",
       "      <td>3</td>\n",
       "      <td>0</td>\n",
       "      <td>3</td>\n",
       "      <td>0</td>\n",
       "      <td>3</td>\n",
       "      <td>1</td>\n",
       "      <td>0</td>\n",
       "      <td>1</td>\n",
       "      <td>...</td>\n",
       "      <td>54</td>\n",
       "      <td>11089534</td>\n",
       "      <td>2</td>\n",
       "      <td>124</td>\n",
       "      <td>64034</td>\n",
       "      <td>1</td>\n",
       "      <td>2</td>\n",
       "      <td>0</td>\n",
       "      <td>0</td>\n",
       "      <td>0</td>\n",
       "    </tr>\n",
       "    <tr>\n",
       "      <th>2</th>\n",
       "      <td>0</td>\n",
       "      <td>1</td>\n",
       "      <td>3</td>\n",
       "      <td>0</td>\n",
       "      <td>2</td>\n",
       "      <td>0</td>\n",
       "      <td>3</td>\n",
       "      <td>1</td>\n",
       "      <td>0</td>\n",
       "      <td>0.666667</td>\n",
       "      <td>...</td>\n",
       "      <td>45</td>\n",
       "      <td>3</td>\n",
       "      <td>1</td>\n",
       "      <td>124</td>\n",
       "      <td>3344</td>\n",
       "      <td>14</td>\n",
       "      <td>67</td>\n",
       "      <td>0</td>\n",
       "      <td>0</td>\n",
       "      <td>0</td>\n",
       "    </tr>\n",
       "    <tr>\n",
       "      <th>3</th>\n",
       "      <td>2</td>\n",
       "      <td>1</td>\n",
       "      <td>3</td>\n",
       "      <td>0</td>\n",
       "      <td>3</td>\n",
       "      <td>0</td>\n",
       "      <td>3</td>\n",
       "      <td>1</td>\n",
       "      <td>0</td>\n",
       "      <td>1</td>\n",
       "      <td>...</td>\n",
       "      <td>56</td>\n",
       "      <td>11089534</td>\n",
       "      <td>13</td>\n",
       "      <td>123</td>\n",
       "      <td>63933</td>\n",
       "      <td>1</td>\n",
       "      <td>3</td>\n",
       "      <td>0</td>\n",
       "      <td>0</td>\n",
       "      <td>0</td>\n",
       "    </tr>\n",
       "    <tr>\n",
       "      <th>4</th>\n",
       "      <td>1</td>\n",
       "      <td>1</td>\n",
       "      <td>3</td>\n",
       "      <td>0</td>\n",
       "      <td>3</td>\n",
       "      <td>0</td>\n",
       "      <td>3</td>\n",
       "      <td>1</td>\n",
       "      <td>0</td>\n",
       "      <td>1</td>\n",
       "      <td>...</td>\n",
       "      <td>64</td>\n",
       "      <td>5</td>\n",
       "      <td>7</td>\n",
       "      <td>256</td>\n",
       "      <td>49697</td>\n",
       "      <td>1</td>\n",
       "      <td>13</td>\n",
       "      <td>0</td>\n",
       "      <td>0</td>\n",
       "      <td>0</td>\n",
       "    </tr>\n",
       "    <tr>\n",
       "      <th>...</th>\n",
       "      <td>...</td>\n",
       "      <td>...</td>\n",
       "      <td>...</td>\n",
       "      <td>...</td>\n",
       "      <td>...</td>\n",
       "      <td>...</td>\n",
       "      <td>...</td>\n",
       "      <td>...</td>\n",
       "      <td>...</td>\n",
       "      <td>...</td>\n",
       "      <td>...</td>\n",
       "      <td>...</td>\n",
       "      <td>...</td>\n",
       "      <td>...</td>\n",
       "      <td>...</td>\n",
       "      <td>...</td>\n",
       "      <td>...</td>\n",
       "      <td>...</td>\n",
       "      <td>...</td>\n",
       "      <td>...</td>\n",
       "      <td>...</td>\n",
       "    </tr>\n",
       "    <tr>\n",
       "      <th>723407</th>\n",
       "      <td>0</td>\n",
       "      <td>29992</td>\n",
       "      <td>2</td>\n",
       "      <td>0</td>\n",
       "      <td>1</td>\n",
       "      <td>1</td>\n",
       "      <td>2</td>\n",
       "      <td>1</td>\n",
       "      <td>0</td>\n",
       "      <td>0.50000</td>\n",
       "      <td>...</td>\n",
       "      <td>39</td>\n",
       "      <td>7</td>\n",
       "      <td>2</td>\n",
       "      <td>13829</td>\n",
       "      <td>35302</td>\n",
       "      <td>21</td>\n",
       "      <td>8</td>\n",
       "      <td>0</td>\n",
       "      <td>0</td>\n",
       "      <td>0</td>\n",
       "    </tr>\n",
       "    <tr>\n",
       "      <th>723408</th>\n",
       "      <td>0</td>\n",
       "      <td>29992</td>\n",
       "      <td>2</td>\n",
       "      <td>1</td>\n",
       "      <td>1</td>\n",
       "      <td>1</td>\n",
       "      <td>2</td>\n",
       "      <td>1</td>\n",
       "      <td>0.50000</td>\n",
       "      <td>0.50000</td>\n",
       "      <td>...</td>\n",
       "      <td>28</td>\n",
       "      <td>0</td>\n",
       "      <td>0</td>\n",
       "      <td>26074</td>\n",
       "      <td>35101</td>\n",
       "      <td>14</td>\n",
       "      <td>7</td>\n",
       "      <td>1</td>\n",
       "      <td>0</td>\n",
       "      <td>0</td>\n",
       "    </tr>\n",
       "    <tr>\n",
       "      <th>723409</th>\n",
       "      <td>0</td>\n",
       "      <td>29992</td>\n",
       "      <td>2</td>\n",
       "      <td>2</td>\n",
       "      <td>2</td>\n",
       "      <td>2</td>\n",
       "      <td>2</td>\n",
       "      <td>1</td>\n",
       "      <td>1</td>\n",
       "      <td>1</td>\n",
       "      <td>...</td>\n",
       "      <td>58</td>\n",
       "      <td>11</td>\n",
       "      <td>2</td>\n",
       "      <td>2995</td>\n",
       "      <td>62170</td>\n",
       "      <td>4</td>\n",
       "      <td>8</td>\n",
       "      <td>0</td>\n",
       "      <td>0</td>\n",
       "      <td>0</td>\n",
       "    </tr>\n",
       "    <tr>\n",
       "      <th>723410</th>\n",
       "      <td>0</td>\n",
       "      <td>29992</td>\n",
       "      <td>2</td>\n",
       "      <td>0</td>\n",
       "      <td>0</td>\n",
       "      <td>0</td>\n",
       "      <td>2</td>\n",
       "      <td>1</td>\n",
       "      <td>0</td>\n",
       "      <td>0</td>\n",
       "      <td>...</td>\n",
       "      <td>65</td>\n",
       "      <td>0</td>\n",
       "      <td>0</td>\n",
       "      <td>138</td>\n",
       "      <td>56419</td>\n",
       "      <td>4</td>\n",
       "      <td>3</td>\n",
       "      <td>0</td>\n",
       "      <td>0</td>\n",
       "      <td>0</td>\n",
       "    </tr>\n",
       "    <tr>\n",
       "      <th>723411</th>\n",
       "      <td>1</td>\n",
       "      <td>29992</td>\n",
       "      <td>2</td>\n",
       "      <td>1</td>\n",
       "      <td>1</td>\n",
       "      <td>0</td>\n",
       "      <td>2</td>\n",
       "      <td>1</td>\n",
       "      <td>0.50000</td>\n",
       "      <td>0.50000</td>\n",
       "      <td>...</td>\n",
       "      <td>30</td>\n",
       "      <td>131</td>\n",
       "      <td>0</td>\n",
       "      <td>13556</td>\n",
       "      <td>25675</td>\n",
       "      <td>2</td>\n",
       "      <td>12</td>\n",
       "      <td>0</td>\n",
       "      <td>0</td>\n",
       "      <td>0</td>\n",
       "    </tr>\n",
       "  </tbody>\n",
       "</table>\n",
       "<p>723412 rows × 138 columns</p>\n",
       "</div>"
      ],
      "text/plain": [
       "        0      1   2   3   4   5   6   7        8         9    ... 128  \\\n",
       "0         2      1   3   3   0   0   3   1        1         0  ...  62   \n",
       "1         2      1   3   0   3   0   3   1        0         1  ...  54   \n",
       "2         0      1   3   0   2   0   3   1        0  0.666667  ...  45   \n",
       "3         2      1   3   0   3   0   3   1        0         1  ...  56   \n",
       "4         1      1   3   0   3   0   3   1        0         1  ...  64   \n",
       "...     ...    ...  ..  ..  ..  ..  ..  ..      ...       ...  ...  ..   \n",
       "723407    0  29992   2   0   1   1   2   1        0   0.50000  ...  39   \n",
       "723408    0  29992   2   1   1   1   2   1  0.50000   0.50000  ...  28   \n",
       "723409    0  29992   2   2   2   2   2   1        1         1  ...  58   \n",
       "723410    0  29992   2   0   0   0   2   1        0         0  ...  65   \n",
       "723411    1  29992   2   1   1   0   2   1  0.50000   0.50000  ...  30   \n",
       "\n",
       "             129 130    131    132 133 134 135 136 137  \n",
       "0       11089534   2    116  64034  13   3   0   0   0  \n",
       "1       11089534   2    124  64034   1   2   0   0   0  \n",
       "2              3   1    124   3344  14  67   0   0   0  \n",
       "3       11089534  13    123  63933   1   3   0   0   0  \n",
       "4              5   7    256  49697   1  13   0   0   0  \n",
       "...          ...  ..    ...    ...  ..  ..  ..  ..  ..  \n",
       "723407         7   2  13829  35302  21   8   0   0   0  \n",
       "723408         0   0  26074  35101  14   7   1   0   0  \n",
       "723409        11   2   2995  62170   4   8   0   0   0  \n",
       "723410         0   0    138  56419   4   3   0   0   0  \n",
       "723411       131   0  13556  25675   2  12   0   0   0  \n",
       "\n",
       "[723412 rows x 138 columns]"
      ]
     },
     "execution_count": 155,
     "metadata": {},
     "output_type": "execute_result"
    }
   ],
   "source": [
    "train_df"
   ]
  },
  {
   "cell_type": "code",
   "execution_count": 9,
   "metadata": {},
   "outputs": [
    {
     "data": {
      "text/plain": [
       "0.13349313112592154"
      ]
     },
     "execution_count": 9,
     "metadata": {},
     "output_type": "execute_result"
    }
   ],
   "source": [
    "# point-wise\n",
    "import sklearn\n",
    "from sklearn.linear_model import LinearRegression\n",
    "\n",
    "X = train_df[train_df.columns[2:]]\n",
    "y = train_df[0]\n",
    "reg = LinearRegression().fit(X, y)\n",
    "\n",
    "\n",
    "# printing R^2\n",
    "reg.score(X,y)"
   ]
  },
  {
   "cell_type": "code",
   "execution_count": 10,
   "metadata": {},
   "outputs": [],
   "source": [
    "## Write code segment to  read the 'test' libsvm file from\n",
    "# https://www.microsoft.com/en-us/research/project/mslr/\n",
    "# Then:\n",
    "# 1) use the above reg object to predict all scores for all samples.\n",
    "# 2) calculate average NDCG for all quesries in the test file"
   ]
  },
  {
   "cell_type": "markdown",
   "metadata": {},
   "source": [
    "Week-10+11 .... Slide 17 === Use multiclass SVMs to learn to predict the labels for query document pairs \n"
   ]
  },
  {
   "cell_type": "markdown",
   "metadata": {},
   "source": [
    "### Write code segment to  read the 'test' libsvm file from"
   ]
  },
  {
   "cell_type": "code",
   "execution_count": 11,
   "metadata": {},
   "outputs": [],
   "source": [
    "test = pd.read_csv(\"test_IR_excercise.txt\", header=None, sep=\" \")"
   ]
  },
  {
   "cell_type": "code",
   "execution_count": 147,
   "metadata": {
    "scrolled": true
   },
   "outputs": [
    {
     "data": {
      "text/html": [
       "<div>\n",
       "<style scoped>\n",
       "    .dataframe tbody tr th:only-of-type {\n",
       "        vertical-align: middle;\n",
       "    }\n",
       "\n",
       "    .dataframe tbody tr th {\n",
       "        vertical-align: top;\n",
       "    }\n",
       "\n",
       "    .dataframe thead th {\n",
       "        text-align: right;\n",
       "    }\n",
       "</style>\n",
       "<table border=\"1\" class=\"dataframe\">\n",
       "  <thead>\n",
       "    <tr style=\"text-align: right;\">\n",
       "      <th></th>\n",
       "      <th>0</th>\n",
       "      <th>1</th>\n",
       "      <th>2</th>\n",
       "      <th>3</th>\n",
       "      <th>4</th>\n",
       "      <th>5</th>\n",
       "      <th>6</th>\n",
       "      <th>7</th>\n",
       "      <th>8</th>\n",
       "      <th>9</th>\n",
       "      <th>...</th>\n",
       "      <th>128</th>\n",
       "      <th>129</th>\n",
       "      <th>130</th>\n",
       "      <th>131</th>\n",
       "      <th>132</th>\n",
       "      <th>133</th>\n",
       "      <th>134</th>\n",
       "      <th>135</th>\n",
       "      <th>136</th>\n",
       "      <th>137</th>\n",
       "    </tr>\n",
       "  </thead>\n",
       "  <tbody>\n",
       "    <tr>\n",
       "      <th>0</th>\n",
       "      <td>2</td>\n",
       "      <td>13</td>\n",
       "      <td>2</td>\n",
       "      <td>0</td>\n",
       "      <td>2</td>\n",
       "      <td>1</td>\n",
       "      <td>2</td>\n",
       "      <td>1</td>\n",
       "      <td>0</td>\n",
       "      <td>1</td>\n",
       "      <td>...</td>\n",
       "      <td>35</td>\n",
       "      <td>1</td>\n",
       "      <td>0</td>\n",
       "      <td>266</td>\n",
       "      <td>25070</td>\n",
       "      <td>28</td>\n",
       "      <td>7</td>\n",
       "      <td>0</td>\n",
       "      <td>0</td>\n",
       "      <td>0</td>\n",
       "    </tr>\n",
       "    <tr>\n",
       "      <th>1</th>\n",
       "      <td>1</td>\n",
       "      <td>13</td>\n",
       "      <td>2</td>\n",
       "      <td>0</td>\n",
       "      <td>0</td>\n",
       "      <td>0</td>\n",
       "      <td>2</td>\n",
       "      <td>1</td>\n",
       "      <td>0</td>\n",
       "      <td>0</td>\n",
       "      <td>...</td>\n",
       "      <td>17</td>\n",
       "      <td>93</td>\n",
       "      <td>0</td>\n",
       "      <td>153</td>\n",
       "      <td>12860</td>\n",
       "      <td>65</td>\n",
       "      <td>158</td>\n",
       "      <td>0</td>\n",
       "      <td>0</td>\n",
       "      <td>0</td>\n",
       "    </tr>\n",
       "    <tr>\n",
       "      <th>2</th>\n",
       "      <td>3</td>\n",
       "      <td>13</td>\n",
       "      <td>2</td>\n",
       "      <td>0</td>\n",
       "      <td>1</td>\n",
       "      <td>0</td>\n",
       "      <td>2</td>\n",
       "      <td>1</td>\n",
       "      <td>0</td>\n",
       "      <td>0.50000</td>\n",
       "      <td>...</td>\n",
       "      <td>19</td>\n",
       "      <td>0</td>\n",
       "      <td>0</td>\n",
       "      <td>153</td>\n",
       "      <td>1131</td>\n",
       "      <td>112</td>\n",
       "      <td>141</td>\n",
       "      <td>0</td>\n",
       "      <td>0</td>\n",
       "      <td>0</td>\n",
       "    </tr>\n",
       "    <tr>\n",
       "      <th>3</th>\n",
       "      <td>1</td>\n",
       "      <td>13</td>\n",
       "      <td>2</td>\n",
       "      <td>0</td>\n",
       "      <td>2</td>\n",
       "      <td>1</td>\n",
       "      <td>2</td>\n",
       "      <td>1</td>\n",
       "      <td>0</td>\n",
       "      <td>1</td>\n",
       "      <td>...</td>\n",
       "      <td>50</td>\n",
       "      <td>81775</td>\n",
       "      <td>0</td>\n",
       "      <td>560</td>\n",
       "      <td>61224</td>\n",
       "      <td>1</td>\n",
       "      <td>14</td>\n",
       "      <td>0</td>\n",
       "      <td>0</td>\n",
       "      <td>0</td>\n",
       "    </tr>\n",
       "    <tr>\n",
       "      <th>4</th>\n",
       "      <td>0</td>\n",
       "      <td>13</td>\n",
       "      <td>1</td>\n",
       "      <td>0</td>\n",
       "      <td>0</td>\n",
       "      <td>0</td>\n",
       "      <td>1</td>\n",
       "      <td>0.50000</td>\n",
       "      <td>0</td>\n",
       "      <td>0</td>\n",
       "      <td>...</td>\n",
       "      <td>24</td>\n",
       "      <td>0</td>\n",
       "      <td>0</td>\n",
       "      <td>57953</td>\n",
       "      <td>15600</td>\n",
       "      <td>15</td>\n",
       "      <td>12</td>\n",
       "      <td>0</td>\n",
       "      <td>0</td>\n",
       "      <td>0</td>\n",
       "    </tr>\n",
       "    <tr>\n",
       "      <th>...</th>\n",
       "      <td>...</td>\n",
       "      <td>...</td>\n",
       "      <td>...</td>\n",
       "      <td>...</td>\n",
       "      <td>...</td>\n",
       "      <td>...</td>\n",
       "      <td>...</td>\n",
       "      <td>...</td>\n",
       "      <td>...</td>\n",
       "      <td>...</td>\n",
       "      <td>...</td>\n",
       "      <td>...</td>\n",
       "      <td>...</td>\n",
       "      <td>...</td>\n",
       "      <td>...</td>\n",
       "      <td>...</td>\n",
       "      <td>...</td>\n",
       "      <td>...</td>\n",
       "      <td>...</td>\n",
       "      <td>...</td>\n",
       "      <td>...</td>\n",
       "    </tr>\n",
       "    <tr>\n",
       "      <th>241516</th>\n",
       "      <td>1</td>\n",
       "      <td>29998</td>\n",
       "      <td>3</td>\n",
       "      <td>0</td>\n",
       "      <td>1</td>\n",
       "      <td>1</td>\n",
       "      <td>3</td>\n",
       "      <td>1</td>\n",
       "      <td>0</td>\n",
       "      <td>0.333333</td>\n",
       "      <td>...</td>\n",
       "      <td>60</td>\n",
       "      <td>9</td>\n",
       "      <td>1</td>\n",
       "      <td>550</td>\n",
       "      <td>49786</td>\n",
       "      <td>23</td>\n",
       "      <td>102</td>\n",
       "      <td>0</td>\n",
       "      <td>0</td>\n",
       "      <td>0</td>\n",
       "    </tr>\n",
       "    <tr>\n",
       "      <th>241517</th>\n",
       "      <td>1</td>\n",
       "      <td>29998</td>\n",
       "      <td>3</td>\n",
       "      <td>1</td>\n",
       "      <td>0</td>\n",
       "      <td>0</td>\n",
       "      <td>3</td>\n",
       "      <td>1</td>\n",
       "      <td>0.333333</td>\n",
       "      <td>0</td>\n",
       "      <td>...</td>\n",
       "      <td>91</td>\n",
       "      <td>268</td>\n",
       "      <td>0</td>\n",
       "      <td>181</td>\n",
       "      <td>53904</td>\n",
       "      <td>1</td>\n",
       "      <td>2</td>\n",
       "      <td>0</td>\n",
       "      <td>0</td>\n",
       "      <td>0</td>\n",
       "    </tr>\n",
       "    <tr>\n",
       "      <th>241518</th>\n",
       "      <td>1</td>\n",
       "      <td>29998</td>\n",
       "      <td>3</td>\n",
       "      <td>0</td>\n",
       "      <td>3</td>\n",
       "      <td>0</td>\n",
       "      <td>3</td>\n",
       "      <td>1</td>\n",
       "      <td>0</td>\n",
       "      <td>1</td>\n",
       "      <td>...</td>\n",
       "      <td>69</td>\n",
       "      <td>14</td>\n",
       "      <td>9</td>\n",
       "      <td>4591</td>\n",
       "      <td>32817</td>\n",
       "      <td>3</td>\n",
       "      <td>9</td>\n",
       "      <td>0</td>\n",
       "      <td>0</td>\n",
       "      <td>0</td>\n",
       "    </tr>\n",
       "    <tr>\n",
       "      <th>241519</th>\n",
       "      <td>0</td>\n",
       "      <td>29998</td>\n",
       "      <td>3</td>\n",
       "      <td>0</td>\n",
       "      <td>1</td>\n",
       "      <td>1</td>\n",
       "      <td>3</td>\n",
       "      <td>1</td>\n",
       "      <td>0</td>\n",
       "      <td>0.333333</td>\n",
       "      <td>...</td>\n",
       "      <td>51</td>\n",
       "      <td>0</td>\n",
       "      <td>1</td>\n",
       "      <td>1549</td>\n",
       "      <td>59332</td>\n",
       "      <td>10</td>\n",
       "      <td>4</td>\n",
       "      <td>0</td>\n",
       "      <td>0</td>\n",
       "      <td>0</td>\n",
       "    </tr>\n",
       "    <tr>\n",
       "      <th>241520</th>\n",
       "      <td>0</td>\n",
       "      <td>29998</td>\n",
       "      <td>3</td>\n",
       "      <td>0</td>\n",
       "      <td>2</td>\n",
       "      <td>0</td>\n",
       "      <td>3</td>\n",
       "      <td>1</td>\n",
       "      <td>0</td>\n",
       "      <td>0.666667</td>\n",
       "      <td>...</td>\n",
       "      <td>26</td>\n",
       "      <td>9</td>\n",
       "      <td>0</td>\n",
       "      <td>1218</td>\n",
       "      <td>28505</td>\n",
       "      <td>6</td>\n",
       "      <td>7</td>\n",
       "      <td>0</td>\n",
       "      <td>0</td>\n",
       "      <td>0</td>\n",
       "    </tr>\n",
       "  </tbody>\n",
       "</table>\n",
       "<p>241521 rows × 138 columns</p>\n",
       "</div>"
      ],
      "text/plain": [
       "        0      1   2   3   4   5   6        7         8         9    ... 128  \\\n",
       "0         2     13   2   0   2   1   2        1         0         1  ...  35   \n",
       "1         1     13   2   0   0   0   2        1         0         0  ...  17   \n",
       "2         3     13   2   0   1   0   2        1         0   0.50000  ...  19   \n",
       "3         1     13   2   0   2   1   2        1         0         1  ...  50   \n",
       "4         0     13   1   0   0   0   1  0.50000         0         0  ...  24   \n",
       "...     ...    ...  ..  ..  ..  ..  ..      ...       ...       ...  ...  ..   \n",
       "241516    1  29998   3   0   1   1   3        1         0  0.333333  ...  60   \n",
       "241517    1  29998   3   1   0   0   3        1  0.333333         0  ...  91   \n",
       "241518    1  29998   3   0   3   0   3        1         0         1  ...  69   \n",
       "241519    0  29998   3   0   1   1   3        1         0  0.333333  ...  51   \n",
       "241520    0  29998   3   0   2   0   3        1         0  0.666667  ...  26   \n",
       "\n",
       "          129 130    131    132  133  134 135 136 137  \n",
       "0           1   0    266  25070   28    7   0   0   0  \n",
       "1          93   0    153  12860   65  158   0   0   0  \n",
       "2           0   0    153   1131  112  141   0   0   0  \n",
       "3       81775   0    560  61224    1   14   0   0   0  \n",
       "4           0   0  57953  15600   15   12   0   0   0  \n",
       "...       ...  ..    ...    ...  ...  ...  ..  ..  ..  \n",
       "241516      9   1    550  49786   23  102   0   0   0  \n",
       "241517    268   0    181  53904    1    2   0   0   0  \n",
       "241518     14   9   4591  32817    3    9   0   0   0  \n",
       "241519      0   1   1549  59332   10    4   0   0   0  \n",
       "241520      9   0   1218  28505    6    7   0   0   0  \n",
       "\n",
       "[241521 rows x 138 columns]"
      ]
     },
     "execution_count": 147,
     "metadata": {},
     "output_type": "execute_result"
    }
   ],
   "source": [
    "test_df = df_preparing(test)\n",
    "test_df"
   ]
  },
  {
   "cell_type": "code",
   "execution_count": 13,
   "metadata": {},
   "outputs": [],
   "source": [
    "X_test = test_df[test_df.columns[2:]] \n",
    "y_test = test_df[0] "
   ]
  },
  {
   "cell_type": "markdown",
   "metadata": {},
   "source": [
    "### 1) use the above reg object to predict all scores for all samples."
   ]
  },
  {
   "cell_type": "code",
   "execution_count": 14,
   "metadata": {},
   "outputs": [
    {
     "data": {
      "text/plain": [
       "array([0.76923034, 0.29349399, 0.3523804 , ..., 0.80657282, 0.43872805,\n",
       "       0.19482099])"
      ]
     },
     "execution_count": 14,
     "metadata": {},
     "output_type": "execute_result"
    }
   ],
   "source": [
    "y_pred = reg.predict(X_test)\n",
    "y_pred"
   ]
  },
  {
   "cell_type": "markdown",
   "metadata": {},
   "source": [
    "### 2) calculate average NDCG for all queries in the test file"
   ]
  },
  {
   "cell_type": "code",
   "execution_count": 118,
   "metadata": {},
   "outputs": [],
   "source": [
    "def print_type_shape(x):\n",
    "    print(type(x))\n",
    "    print(x.shape)"
   ]
  },
  {
   "cell_type": "code",
   "execution_count": 127,
   "metadata": {},
   "outputs": [
    {
     "name": "stdout",
     "output_type": "stream",
     "text": [
      "<class 'numpy.ndarray'>\n",
      "(241521,)\n"
     ]
    }
   ],
   "source": [
    "print_type_shape(y_pred)"
   ]
  },
  {
   "cell_type": "code",
   "execution_count": 16,
   "metadata": {},
   "outputs": [],
   "source": [
    "y_pred_reshaped = y_pred.reshape(1, y_pred.shape[0])"
   ]
  },
  {
   "cell_type": "code",
   "execution_count": 128,
   "metadata": {},
   "outputs": [
    {
     "name": "stdout",
     "output_type": "stream",
     "text": [
      "<class 'numpy.ndarray'>\n",
      "(1, 241521)\n"
     ]
    }
   ],
   "source": [
    "print_type_shape(y_pred_reshaped)"
   ]
  },
  {
   "cell_type": "code",
   "execution_count": 129,
   "metadata": {},
   "outputs": [
    {
     "name": "stdout",
     "output_type": "stream",
     "text": [
      "<class 'pandas.core.series.Series'>\n",
      "(241521,)\n"
     ]
    }
   ],
   "source": [
    "print_type_shape(y_test)"
   ]
  },
  {
   "cell_type": "code",
   "execution_count": 19,
   "metadata": {},
   "outputs": [],
   "source": [
    "y_test_reshaped = y_test.values.reshape(1, y_pred.shape[0])"
   ]
  },
  {
   "cell_type": "code",
   "execution_count": 130,
   "metadata": {},
   "outputs": [
    {
     "name": "stdout",
     "output_type": "stream",
     "text": [
      "<class 'numpy.ndarray'>\n",
      "(1, 241521)\n"
     ]
    },
    {
     "data": {
      "text/plain": [
       "array([[2, 1, 3, ..., 1, 0, 0]], dtype=int64)"
      ]
     },
     "execution_count": 130,
     "metadata": {},
     "output_type": "execute_result"
    }
   ],
   "source": [
    "print_type_shape(y_test_reshaped)\n",
    "y_test_reshaped"
   ]
  },
  {
   "cell_type": "code",
   "execution_count": 21,
   "metadata": {},
   "outputs": [
    {
     "data": {
      "text/plain": [
       "0.9258607285957392"
      ]
     },
     "execution_count": 21,
     "metadata": {},
     "output_type": "execute_result"
    }
   ],
   "source": [
    "ndcg_score(y_test_reshaped, y_pred_reshaped)"
   ]
  },
  {
   "cell_type": "code",
   "execution_count": null,
   "metadata": {},
   "outputs": [],
   "source": []
  },
  {
   "cell_type": "code",
   "execution_count": null,
   "metadata": {},
   "outputs": [],
   "source": []
  },
  {
   "cell_type": "code",
   "execution_count": null,
   "metadata": {},
   "outputs": [],
   "source": []
  },
  {
   "cell_type": "code",
   "execution_count": 22,
   "metadata": {},
   "outputs": [],
   "source": [
    "#!pip install xgboost\n",
    "import xgboost as xgb"
   ]
  },
  {
   "cell_type": "code",
   "execution_count": 23,
   "metadata": {},
   "outputs": [],
   "source": [
    "training_data = xgb.DMatrix('train_sub_fold1.txt')\n",
    "#DMatrix is an internal data structure that is used by XGBoost, \n",
    "#which is optimized for both memory efficiency and training speed.\n",
    "\n",
    "# 3) use the set_group([]) method of DMatrix to specify the number of urls(items) for each query. The input of this method should\n",
    "# be an an array"
   ]
  },
  {
   "cell_type": "code",
   "execution_count": null,
   "metadata": {},
   "outputs": [],
   "source": []
  },
  {
   "cell_type": "code",
   "execution_count": 162,
   "metadata": {},
   "outputs": [
    {
     "name": "stdout",
     "output_type": "stream",
     "text": [
      "<class 'NoneType'>\n",
      "None\n"
     ]
    }
   ],
   "source": [
    "cols = train_df.columns\n",
    "sdfg = training_data.set_group(cols)\n",
    "print(type(sdfg))\n",
    "print(sdfg)"
   ]
  },
  {
   "cell_type": "code",
   "execution_count": 136,
   "metadata": {},
   "outputs": [
    {
     "name": "stdout",
     "output_type": "stream",
     "text": [
      "Number of rows: 723412\n",
      "Label: None\n"
     ]
    }
   ],
   "source": [
    "training_data\n",
    "print(f'Number of rows: {training_data.num_row()}')\n",
    "print(f'Label: {training_data.feature_names}')\n",
    "#training_data.data()"
   ]
  },
  {
   "cell_type": "code",
   "execution_count": 29,
   "metadata": {},
   "outputs": [
    {
     "data": {
      "text/plain": [
       "<xgboost.core.DMatrix at 0x1ffdfe048b0>"
      ]
     },
     "execution_count": 29,
     "metadata": {},
     "output_type": "execute_result"
    }
   ],
   "source": [
    "testing_data = xgb.DMatrix('test_IR_excercise.txt')\n",
    "testing_data"
   ]
  },
  {
   "cell_type": "code",
   "execution_count": 131,
   "metadata": {},
   "outputs": [
    {
     "name": "stdout",
     "output_type": "stream",
     "text": [
      "Number of rows: 241521\n",
      "Label: None\n"
     ]
    }
   ],
   "source": [
    "print(f'Number of rows: {testing_data.num_row()}')\n",
    "print(f'Label: {testing_data.feature_names}')"
   ]
  },
  {
   "cell_type": "code",
   "execution_count": 39,
   "metadata": {},
   "outputs": [],
   "source": [
    "# list-wise\n",
    "ltr_lambdamart_param = [('objective','rank:ndcg'),('max_depth',3), ('eta',0.1), ('seed',404)]\n",
    "\n",
    "lambdamart_model = xgb.train(ltr_lambdamart_param, training_data)\n"
   ]
  },
  {
   "cell_type": "code",
   "execution_count": 46,
   "metadata": {},
   "outputs": [],
   "source": [
    "pred_lambdamart = lambdamart_model.predict(testing_data)"
   ]
  },
  {
   "cell_type": "code",
   "execution_count": 48,
   "metadata": {},
   "outputs": [
    {
     "data": {
      "text/plain": [
       "array([0.50383204, 0.27758095, 0.27758095, ..., 0.5274218 , 0.42350563,\n",
       "       0.5274218 ], dtype=float32)"
      ]
     },
     "execution_count": 48,
     "metadata": {},
     "output_type": "execute_result"
    }
   ],
   "source": [
    "pred_lambdamart"
   ]
  },
  {
   "cell_type": "code",
   "execution_count": 55,
   "metadata": {},
   "outputs": [],
   "source": [
    "#lambdarank (pairwise LTR)\n",
    "ltr_lambdarank_param = [('objective','rank:pairwise'),('max_depth',3), ('eta',0.1), ('seed',404)]\n",
    "\n",
    " \n",
    "lambdarank_model = xgb.train(ltr_lambdarank_param, training_data)\n"
   ]
  },
  {
   "cell_type": "code",
   "execution_count": 117,
   "metadata": {},
   "outputs": [
    {
     "data": {
      "text/plain": [
       "array([0.51874346, 0.4311399 , 0.4311399 , ..., 0.6515914 , 0.4926514 ,\n",
       "       0.4907252 ], dtype=float32)"
      ]
     },
     "execution_count": 117,
     "metadata": {},
     "output_type": "execute_result"
    }
   ],
   "source": [
    "pred_lambdarank = lambdarank_model.predict(testing_data)\n",
    "pred_lambdarank"
   ]
  },
  {
   "cell_type": "code",
   "execution_count": 57,
   "metadata": {},
   "outputs": [],
   "source": [
    "test = pd.read_csv(\"test_IR_excercise.txt\", header=None, sep=\" \")\n"
   ]
  },
  {
   "cell_type": "code",
   "execution_count": 92,
   "metadata": {},
   "outputs": [
    {
     "data": {
      "text/html": [
       "<div>\n",
       "<style scoped>\n",
       "    .dataframe tbody tr th:only-of-type {\n",
       "        vertical-align: middle;\n",
       "    }\n",
       "\n",
       "    .dataframe tbody tr th {\n",
       "        vertical-align: top;\n",
       "    }\n",
       "\n",
       "    .dataframe thead th {\n",
       "        text-align: right;\n",
       "    }\n",
       "</style>\n",
       "<table border=\"1\" class=\"dataframe\">\n",
       "  <thead>\n",
       "    <tr style=\"text-align: right;\">\n",
       "      <th></th>\n",
       "      <th>0</th>\n",
       "      <th>1</th>\n",
       "      <th>2</th>\n",
       "      <th>3</th>\n",
       "      <th>4</th>\n",
       "      <th>5</th>\n",
       "      <th>6</th>\n",
       "      <th>7</th>\n",
       "      <th>8</th>\n",
       "      <th>9</th>\n",
       "      <th>...</th>\n",
       "      <th>129</th>\n",
       "      <th>130</th>\n",
       "      <th>131</th>\n",
       "      <th>132</th>\n",
       "      <th>133</th>\n",
       "      <th>134</th>\n",
       "      <th>135</th>\n",
       "      <th>136</th>\n",
       "      <th>137</th>\n",
       "      <th>138</th>\n",
       "    </tr>\n",
       "  </thead>\n",
       "  <tbody>\n",
       "    <tr>\n",
       "      <th>0</th>\n",
       "      <td>2</td>\n",
       "      <td>qid:13</td>\n",
       "      <td>1:2</td>\n",
       "      <td>2:0</td>\n",
       "      <td>3:2</td>\n",
       "      <td>4:1</td>\n",
       "      <td>5:2</td>\n",
       "      <td>6:1</td>\n",
       "      <td>7:0</td>\n",
       "      <td>8:1</td>\n",
       "      <td>...</td>\n",
       "      <td>128:1</td>\n",
       "      <td>129:0</td>\n",
       "      <td>130:266</td>\n",
       "      <td>131:25070</td>\n",
       "      <td>132:28</td>\n",
       "      <td>133:7</td>\n",
       "      <td>134:0</td>\n",
       "      <td>135:0</td>\n",
       "      <td>136:0</td>\n",
       "      <td>NaN</td>\n",
       "    </tr>\n",
       "    <tr>\n",
       "      <th>1</th>\n",
       "      <td>1</td>\n",
       "      <td>qid:13</td>\n",
       "      <td>1:2</td>\n",
       "      <td>2:0</td>\n",
       "      <td>3:0</td>\n",
       "      <td>4:0</td>\n",
       "      <td>5:2</td>\n",
       "      <td>6:1</td>\n",
       "      <td>7:0</td>\n",
       "      <td>8:0</td>\n",
       "      <td>...</td>\n",
       "      <td>128:93</td>\n",
       "      <td>129:0</td>\n",
       "      <td>130:153</td>\n",
       "      <td>131:12860</td>\n",
       "      <td>132:65</td>\n",
       "      <td>133:158</td>\n",
       "      <td>134:0</td>\n",
       "      <td>135:0</td>\n",
       "      <td>136:0</td>\n",
       "      <td>NaN</td>\n",
       "    </tr>\n",
       "    <tr>\n",
       "      <th>2</th>\n",
       "      <td>3</td>\n",
       "      <td>qid:13</td>\n",
       "      <td>1:2</td>\n",
       "      <td>2:0</td>\n",
       "      <td>3:1</td>\n",
       "      <td>4:0</td>\n",
       "      <td>5:2</td>\n",
       "      <td>6:1</td>\n",
       "      <td>7:0</td>\n",
       "      <td>8:0.50000</td>\n",
       "      <td>...</td>\n",
       "      <td>128:0</td>\n",
       "      <td>129:0</td>\n",
       "      <td>130:153</td>\n",
       "      <td>131:1131</td>\n",
       "      <td>132:112</td>\n",
       "      <td>133:141</td>\n",
       "      <td>134:0</td>\n",
       "      <td>135:0</td>\n",
       "      <td>136:0</td>\n",
       "      <td>NaN</td>\n",
       "    </tr>\n",
       "    <tr>\n",
       "      <th>3</th>\n",
       "      <td>1</td>\n",
       "      <td>qid:13</td>\n",
       "      <td>1:2</td>\n",
       "      <td>2:0</td>\n",
       "      <td>3:2</td>\n",
       "      <td>4:1</td>\n",
       "      <td>5:2</td>\n",
       "      <td>6:1</td>\n",
       "      <td>7:0</td>\n",
       "      <td>8:1</td>\n",
       "      <td>...</td>\n",
       "      <td>128:81775</td>\n",
       "      <td>129:0</td>\n",
       "      <td>130:560</td>\n",
       "      <td>131:61224</td>\n",
       "      <td>132:1</td>\n",
       "      <td>133:14</td>\n",
       "      <td>134:0</td>\n",
       "      <td>135:0</td>\n",
       "      <td>136:0</td>\n",
       "      <td>NaN</td>\n",
       "    </tr>\n",
       "    <tr>\n",
       "      <th>4</th>\n",
       "      <td>0</td>\n",
       "      <td>qid:13</td>\n",
       "      <td>1:1</td>\n",
       "      <td>2:0</td>\n",
       "      <td>3:0</td>\n",
       "      <td>4:0</td>\n",
       "      <td>5:1</td>\n",
       "      <td>6:0.50000</td>\n",
       "      <td>7:0</td>\n",
       "      <td>8:0</td>\n",
       "      <td>...</td>\n",
       "      <td>128:0</td>\n",
       "      <td>129:0</td>\n",
       "      <td>130:57953</td>\n",
       "      <td>131:15600</td>\n",
       "      <td>132:15</td>\n",
       "      <td>133:12</td>\n",
       "      <td>134:0</td>\n",
       "      <td>135:0</td>\n",
       "      <td>136:0</td>\n",
       "      <td>NaN</td>\n",
       "    </tr>\n",
       "    <tr>\n",
       "      <th>...</th>\n",
       "      <td>...</td>\n",
       "      <td>...</td>\n",
       "      <td>...</td>\n",
       "      <td>...</td>\n",
       "      <td>...</td>\n",
       "      <td>...</td>\n",
       "      <td>...</td>\n",
       "      <td>...</td>\n",
       "      <td>...</td>\n",
       "      <td>...</td>\n",
       "      <td>...</td>\n",
       "      <td>...</td>\n",
       "      <td>...</td>\n",
       "      <td>...</td>\n",
       "      <td>...</td>\n",
       "      <td>...</td>\n",
       "      <td>...</td>\n",
       "      <td>...</td>\n",
       "      <td>...</td>\n",
       "      <td>...</td>\n",
       "      <td>...</td>\n",
       "    </tr>\n",
       "    <tr>\n",
       "      <th>241516</th>\n",
       "      <td>1</td>\n",
       "      <td>qid:29998</td>\n",
       "      <td>1:3</td>\n",
       "      <td>2:0</td>\n",
       "      <td>3:1</td>\n",
       "      <td>4:1</td>\n",
       "      <td>5:3</td>\n",
       "      <td>6:1</td>\n",
       "      <td>7:0</td>\n",
       "      <td>8:0.333333</td>\n",
       "      <td>...</td>\n",
       "      <td>128:9</td>\n",
       "      <td>129:1</td>\n",
       "      <td>130:550</td>\n",
       "      <td>131:49786</td>\n",
       "      <td>132:23</td>\n",
       "      <td>133:102</td>\n",
       "      <td>134:0</td>\n",
       "      <td>135:0</td>\n",
       "      <td>136:0</td>\n",
       "      <td>NaN</td>\n",
       "    </tr>\n",
       "    <tr>\n",
       "      <th>241517</th>\n",
       "      <td>1</td>\n",
       "      <td>qid:29998</td>\n",
       "      <td>1:3</td>\n",
       "      <td>2:1</td>\n",
       "      <td>3:0</td>\n",
       "      <td>4:0</td>\n",
       "      <td>5:3</td>\n",
       "      <td>6:1</td>\n",
       "      <td>7:0.333333</td>\n",
       "      <td>8:0</td>\n",
       "      <td>...</td>\n",
       "      <td>128:268</td>\n",
       "      <td>129:0</td>\n",
       "      <td>130:181</td>\n",
       "      <td>131:53904</td>\n",
       "      <td>132:1</td>\n",
       "      <td>133:2</td>\n",
       "      <td>134:0</td>\n",
       "      <td>135:0</td>\n",
       "      <td>136:0</td>\n",
       "      <td>NaN</td>\n",
       "    </tr>\n",
       "    <tr>\n",
       "      <th>241518</th>\n",
       "      <td>1</td>\n",
       "      <td>qid:29998</td>\n",
       "      <td>1:3</td>\n",
       "      <td>2:0</td>\n",
       "      <td>3:3</td>\n",
       "      <td>4:0</td>\n",
       "      <td>5:3</td>\n",
       "      <td>6:1</td>\n",
       "      <td>7:0</td>\n",
       "      <td>8:1</td>\n",
       "      <td>...</td>\n",
       "      <td>128:14</td>\n",
       "      <td>129:9</td>\n",
       "      <td>130:4591</td>\n",
       "      <td>131:32817</td>\n",
       "      <td>132:3</td>\n",
       "      <td>133:9</td>\n",
       "      <td>134:0</td>\n",
       "      <td>135:0</td>\n",
       "      <td>136:0</td>\n",
       "      <td>NaN</td>\n",
       "    </tr>\n",
       "    <tr>\n",
       "      <th>241519</th>\n",
       "      <td>0</td>\n",
       "      <td>qid:29998</td>\n",
       "      <td>1:3</td>\n",
       "      <td>2:0</td>\n",
       "      <td>3:1</td>\n",
       "      <td>4:1</td>\n",
       "      <td>5:3</td>\n",
       "      <td>6:1</td>\n",
       "      <td>7:0</td>\n",
       "      <td>8:0.333333</td>\n",
       "      <td>...</td>\n",
       "      <td>128:0</td>\n",
       "      <td>129:1</td>\n",
       "      <td>130:1549</td>\n",
       "      <td>131:59332</td>\n",
       "      <td>132:10</td>\n",
       "      <td>133:4</td>\n",
       "      <td>134:0</td>\n",
       "      <td>135:0</td>\n",
       "      <td>136:0</td>\n",
       "      <td>NaN</td>\n",
       "    </tr>\n",
       "    <tr>\n",
       "      <th>241520</th>\n",
       "      <td>0</td>\n",
       "      <td>qid:29998</td>\n",
       "      <td>1:3</td>\n",
       "      <td>2:0</td>\n",
       "      <td>3:2</td>\n",
       "      <td>4:0</td>\n",
       "      <td>5:3</td>\n",
       "      <td>6:1</td>\n",
       "      <td>7:0</td>\n",
       "      <td>8:0.666667</td>\n",
       "      <td>...</td>\n",
       "      <td>128:9</td>\n",
       "      <td>129:0</td>\n",
       "      <td>130:1218</td>\n",
       "      <td>131:28505</td>\n",
       "      <td>132:6</td>\n",
       "      <td>133:7</td>\n",
       "      <td>134:0</td>\n",
       "      <td>135:0</td>\n",
       "      <td>136:0</td>\n",
       "      <td>NaN</td>\n",
       "    </tr>\n",
       "  </tbody>\n",
       "</table>\n",
       "<p>241521 rows × 139 columns</p>\n",
       "</div>"
      ],
      "text/plain": [
       "        0          1    2    3    4    5    6          7           8    \\\n",
       "0         2     qid:13  1:2  2:0  3:2  4:1  5:2        6:1         7:0   \n",
       "1         1     qid:13  1:2  2:0  3:0  4:0  5:2        6:1         7:0   \n",
       "2         3     qid:13  1:2  2:0  3:1  4:0  5:2        6:1         7:0   \n",
       "3         1     qid:13  1:2  2:0  3:2  4:1  5:2        6:1         7:0   \n",
       "4         0     qid:13  1:1  2:0  3:0  4:0  5:1  6:0.50000         7:0   \n",
       "...     ...        ...  ...  ...  ...  ...  ...        ...         ...   \n",
       "241516    1  qid:29998  1:3  2:0  3:1  4:1  5:3        6:1         7:0   \n",
       "241517    1  qid:29998  1:3  2:1  3:0  4:0  5:3        6:1  7:0.333333   \n",
       "241518    1  qid:29998  1:3  2:0  3:3  4:0  5:3        6:1         7:0   \n",
       "241519    0  qid:29998  1:3  2:0  3:1  4:1  5:3        6:1         7:0   \n",
       "241520    0  qid:29998  1:3  2:0  3:2  4:0  5:3        6:1         7:0   \n",
       "\n",
       "               9    ...        129    130        131        132      133  \\\n",
       "0              8:1  ...      128:1  129:0    130:266  131:25070   132:28   \n",
       "1              8:0  ...     128:93  129:0    130:153  131:12860   132:65   \n",
       "2        8:0.50000  ...      128:0  129:0    130:153   131:1131  132:112   \n",
       "3              8:1  ...  128:81775  129:0    130:560  131:61224    132:1   \n",
       "4              8:0  ...      128:0  129:0  130:57953  131:15600   132:15   \n",
       "...            ...  ...        ...    ...        ...        ...      ...   \n",
       "241516  8:0.333333  ...      128:9  129:1    130:550  131:49786   132:23   \n",
       "241517         8:0  ...    128:268  129:0    130:181  131:53904    132:1   \n",
       "241518         8:1  ...     128:14  129:9   130:4591  131:32817    132:3   \n",
       "241519  8:0.333333  ...      128:0  129:1   130:1549  131:59332   132:10   \n",
       "241520  8:0.666667  ...      128:9  129:0   130:1218  131:28505    132:6   \n",
       "\n",
       "            134    135    136    137 138  \n",
       "0         133:7  134:0  135:0  136:0 NaN  \n",
       "1       133:158  134:0  135:0  136:0 NaN  \n",
       "2       133:141  134:0  135:0  136:0 NaN  \n",
       "3        133:14  134:0  135:0  136:0 NaN  \n",
       "4        133:12  134:0  135:0  136:0 NaN  \n",
       "...         ...    ...    ...    ...  ..  \n",
       "241516  133:102  134:0  135:0  136:0 NaN  \n",
       "241517    133:2  134:0  135:0  136:0 NaN  \n",
       "241518    133:9  134:0  135:0  136:0 NaN  \n",
       "241519    133:4  134:0  135:0  136:0 NaN  \n",
       "241520    133:7  134:0  135:0  136:0 NaN  \n",
       "\n",
       "[241521 rows x 139 columns]"
      ]
     },
     "execution_count": 92,
     "metadata": {},
     "output_type": "execute_result"
    }
   ],
   "source": [
    "test"
   ]
  },
  {
   "cell_type": "markdown",
   "metadata": {},
   "source": [
    "### 4) calculate average NDCG for both lambdarank_model and lambdamart_model"
   ]
  },
  {
   "cell_type": "markdown",
   "metadata": {},
   "source": [
    "#### Reshape pred_lambdamart"
   ]
  },
  {
   "cell_type": "code",
   "execution_count": 119,
   "metadata": {},
   "outputs": [
    {
     "name": "stdout",
     "output_type": "stream",
     "text": [
      "<class 'numpy.ndarray'>\n",
      "(241521,)\n"
     ]
    }
   ],
   "source": [
    "print_type_shape(pred_lambdamart)"
   ]
  },
  {
   "cell_type": "code",
   "execution_count": 104,
   "metadata": {},
   "outputs": [],
   "source": [
    "pred_lambdamart_reshaped = pred_lambdamart.reshape(1, pred_lambdamart.shape[0])"
   ]
  },
  {
   "cell_type": "code",
   "execution_count": 120,
   "metadata": {},
   "outputs": [
    {
     "name": "stdout",
     "output_type": "stream",
     "text": [
      "<class 'numpy.ndarray'>\n",
      "(1, 241521)\n"
     ]
    }
   ],
   "source": [
    "print_type_shape(pred_lambdamart_reshaped)"
   ]
  },
  {
   "cell_type": "markdown",
   "metadata": {},
   "source": [
    "#### Reshape pred_lambdarank"
   ]
  },
  {
   "cell_type": "code",
   "execution_count": 121,
   "metadata": {},
   "outputs": [
    {
     "name": "stdout",
     "output_type": "stream",
     "text": [
      "<class 'numpy.ndarray'>\n",
      "(241521,)\n"
     ]
    }
   ],
   "source": [
    "print_type_shape(pred_lambdarank)"
   ]
  },
  {
   "cell_type": "code",
   "execution_count": 114,
   "metadata": {},
   "outputs": [],
   "source": [
    "pred_lambdarank_reshaped = pred_lambdarank.reshape(1, pred_lambdarank.shape[0])"
   ]
  },
  {
   "cell_type": "code",
   "execution_count": 123,
   "metadata": {},
   "outputs": [
    {
     "name": "stdout",
     "output_type": "stream",
     "text": [
      "<class 'numpy.ndarray'>\n",
      "(1, 241521)\n"
     ]
    }
   ],
   "source": [
    "print_type_shape(pred_lambdarank_reshaped)"
   ]
  },
  {
   "cell_type": "markdown",
   "metadata": {},
   "source": [
    "#### Reshape y_test"
   ]
  },
  {
   "cell_type": "code",
   "execution_count": 106,
   "metadata": {},
   "outputs": [],
   "source": [
    "y_test_xgb = test[0]"
   ]
  },
  {
   "cell_type": "code",
   "execution_count": 124,
   "metadata": {},
   "outputs": [
    {
     "name": "stdout",
     "output_type": "stream",
     "text": [
      "<class 'pandas.core.series.Series'>\n",
      "(241521,)\n"
     ]
    }
   ],
   "source": [
    "print_type_shape(y_test_xgb)"
   ]
  },
  {
   "cell_type": "code",
   "execution_count": 108,
   "metadata": {},
   "outputs": [],
   "source": [
    "y_test_xgb_reshaped = y_test_xgb.values.reshape(1, y_test_xgb.shape[0])"
   ]
  },
  {
   "cell_type": "code",
   "execution_count": 125,
   "metadata": {},
   "outputs": [
    {
     "name": "stdout",
     "output_type": "stream",
     "text": [
      "<class 'numpy.ndarray'>\n",
      "(1, 241521)\n"
     ]
    }
   ],
   "source": [
    "print_type_shape(y_test_xgb_reshaped)"
   ]
  },
  {
   "cell_type": "markdown",
   "metadata": {},
   "source": [
    "#### NDCG score"
   ]
  },
  {
   "cell_type": "code",
   "execution_count": 110,
   "metadata": {},
   "outputs": [
    {
     "data": {
      "text/plain": [
       "0.9179210315408598"
      ]
     },
     "execution_count": 110,
     "metadata": {},
     "output_type": "execute_result"
    }
   ],
   "source": [
    "ndcg_score(y_test_xgb_reshaped, pred_lambdamart_reshaped)"
   ]
  },
  {
   "cell_type": "code",
   "execution_count": 116,
   "metadata": {},
   "outputs": [
    {
     "data": {
      "text/plain": [
       "0.9240950704313468"
      ]
     },
     "execution_count": 116,
     "metadata": {},
     "output_type": "execute_result"
    }
   ],
   "source": [
    "ndcg_score(y_test_xgb_reshaped, pred_lambdarank_reshaped)"
   ]
  }
 ],
 "metadata": {
  "kernelspec": {
   "display_name": "Python 3 (ipykernel)",
   "language": "python",
   "name": "python3"
  },
  "language_info": {
   "codemirror_mode": {
    "name": "ipython",
    "version": 3
   },
   "file_extension": ".py",
   "mimetype": "text/x-python",
   "name": "python",
   "nbconvert_exporter": "python",
   "pygments_lexer": "ipython3",
   "version": "3.9.7"
  }
 },
 "nbformat": 4,
 "nbformat_minor": 2
}
